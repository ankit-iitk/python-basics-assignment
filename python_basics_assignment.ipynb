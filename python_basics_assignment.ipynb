{
  "nbformat": 4,
  "nbformat_minor": 0,
  "metadata": {
    "colab": {
      "provenance": []
    },
    "kernelspec": {
      "name": "python3",
      "display_name": "Python 3"
    },
    "language_info": {
      "name": "python"
    }
  },
  "cells": [
    {
      "cell_type": "code",
      "execution_count": 3,
      "metadata": {
        "colab": {
          "base_uri": "https://localhost:8080/",
          "height": 87
        },
        "id": "69reS1AgiREY",
        "outputId": "1d2e7642-1560-47ab-ba99-93d6d519a130"
      },
      "outputs": [
        {
          "output_type": "execute_result",
          "data": {
            "text/plain": [
              "'Python is known for its simple, readable syntax, making it accessible to beginners and efficient for experienced developers. It has a vast standard library and a large ecosystem of third-party packages, supporting tasks in web development, data science, machine learning, automation, and more. Python is versatile, supporting object-oriented, functional, and procedural programming. Its cross-platform nature and strong community further enhance its appeal, making it ideal for rapid development across various domains like scientific computing, AI, and web applications.'"
            ],
            "application/vnd.google.colaboratory.intrinsic+json": {
              "type": "string"
            }
          },
          "metadata": {},
          "execution_count": 3
        }
      ],
      "source": [
        "# Q.1 Explain the key features of Python that make it a popular choice for programming\n",
        "\n",
        "\n",
        "'''Python is known for its simple, readable syntax, making it accessible to beginners and efficient for experienced developers. It has a vast standard library and a large ecosystem of third-party packages, supporting tasks in web development, data science, machine learning, automation, and more. Python is versatile, supporting object-oriented, functional, and procedural programming. Its cross-platform nature and strong community further enhance its appeal, making it ideal for rapid development across various domains like scientific computing, AI, and web applications.'''"
      ]
    },
    {
      "cell_type": "code",
      "source": [
        "# Q.2 Describe the role of predefined keywords in Python and provide examples of how they are used in a program ?\n",
        "\n",
        "'''\n",
        "Predefined keywords in Python are reserved words that have special meanings and purposes within the language. These keywords cannot be used as variable names, function names, or identifiers because they are part of the Python language's syntax and control flow.\n",
        "Examples of keywords --> for, import, if , else, break, continue, etc.\n",
        "\n",
        "example of small code to print no. 1 to 10\n",
        "for i in range(1,10):\n",
        "  print(i)\n",
        "\n",
        "In the above code keywords are --> for, in\n",
        "'''\n",
        "\n",
        "# Example of Q.2\n",
        "\n",
        "for i in range(10):\n",
        "  print(i)\n"
      ],
      "metadata": {
        "colab": {
          "base_uri": "https://localhost:8080/",
          "height": 87
        },
        "collapsed": true,
        "id": "ErrqGGyBkjKu",
        "outputId": "67541e5e-8490-4435-f2c8-4f30c33894b1"
      },
      "execution_count": 7,
      "outputs": [
        {
          "output_type": "execute_result",
          "data": {
            "text/plain": [
              "\"\\nPredefined keywords in Python are reserved words that have special meanings and purposes within the language. These keywords cannot be used as variable names, function names, or identifiers because they are part of the Python language's syntax and control flow.\\nExamples of keywords --> for, import, if , else, break, continue, etc.\\n\\nexample of small code to print no. 1 to 10 \\nfor i in range(1,10):\\n  print(i)\\n\\nIn the above code keywords are --> for, in\\n\""
            ],
            "application/vnd.google.colaboratory.intrinsic+json": {
              "type": "string"
            }
          },
          "metadata": {},
          "execution_count": 7
        }
      ]
    },
    {
      "cell_type": "code",
      "source": [
        "# Q.3 Compare and contrast mutable and immutable objects in Python with examples.\n",
        "\n",
        "\n",
        "'''\n",
        "Mutable objects are those whose values can be modified or changed after they are created. When you modify a mutable object\n",
        "\n",
        "Examples of mutable objects are --> lists, sets, dictionaries\n",
        "\n",
        "Immutable objects are those whose values cannot be changed once they are created.\n",
        "\n",
        "Examples of immutable objects are --> strings, tuples, frozen sets(an immuatble version of sets)\n",
        "\n",
        "\n",
        "'''\n",
        "\n",
        "# example of Q.3\n",
        "\n",
        "l = [1,2,3] #list is a mutable object\n",
        "print(l)\n",
        "\n",
        "l.append(4)\n",
        "print(l)\n",
        "\n",
        "l[0] = 5\n",
        "print(l)\n",
        "\n",
        "\n",
        "# example of immutable object\n",
        "\n",
        "t = (1,2,3)\n",
        "print(t)\n",
        "\n",
        "t[0] = 5 # it will give error because it is immutable object"
      ],
      "metadata": {
        "colab": {
          "base_uri": "https://localhost:8080/"
        },
        "id": "puHN1eeRoitL",
        "outputId": "ebf0330b-857e-422d-f607-f0cc3a30dec5"
      },
      "execution_count": 9,
      "outputs": [
        {
          "output_type": "stream",
          "name": "stdout",
          "text": [
            "*"
          ]
        }
      ]
    },
    {
      "cell_type": "code",
      "source": [
        "# Q.4 Discuss the different types of operators in Python and provide examples of how they are used.\n",
        "\n",
        "'''\n",
        "operators are symbols that perform operations on variables and values.\n",
        "\n",
        "The different types of operators are:\n",
        "1. Arithmetic Operators\n",
        "2. Comparison Operators\n",
        "3. Logical Operators\n",
        "4. Assignment Operators\n",
        "5. Bitwise Operators\n",
        "6. Identity Operators\n",
        "7. Membership Operators\n",
        "'''\n",
        "\n",
        "# Examples of Q.4\n",
        "\n",
        "a = 3\n",
        "b = 5\n",
        "\n",
        "# arithmetic operators\n",
        "print(a+b) # Addition\n",
        "print(a-b) # subtraction\n",
        "print(a*b) # multiplication\n",
        "print(a/b) # division\n",
        "\n",
        "# comparison operator\n",
        "print(a>b)\n",
        "print(a<b)\n",
        "print(a==b)\n",
        "\n",
        "# logical operator\n",
        "\n",
        "x = True\n",
        "y = False\n",
        "\n",
        "print(x and y)  # False (both must be True)\n",
        "print(x or y)   # True  (at least one must be True)\n",
        "print(not x)    # False (negates the value of x)\n",
        "\n",
        "# Assignment operator\n",
        "\n",
        "x = 7\n",
        "x += 2 # x takes value 9\n",
        "x -= 3 # x takes value 6\n",
        "x *= 5 # x takes value 30\n",
        "print(x)\n",
        "\n",
        "# Bitwise operator\n",
        "\n",
        "x = 5\n",
        "y = 7\n",
        "\n",
        "print(x ^ y)\n",
        "print(x & y)\n",
        "print(x | y)\n",
        "\n",
        "# Identity operator\n",
        "\n",
        "a = [1,2,3]\n",
        "b = [1,2,3]\n",
        "c = a\n",
        "\n",
        "print(a is b) # false\n",
        "print(a is not b) #true\n",
        "print(a is c) #true\n",
        "\n",
        "# membership operator\n",
        "\n",
        "a = [1,2,3,\"ankit\",\"mukund\",\"shekhar\"]\n",
        "\n",
        "print(\"ankit\" in a) #true\n",
        "print(1 in a) # true\n",
        "print(5 in a) # false\n",
        "print(\"yogesh\" not in a) #true\n",
        "print(2 not in a) #false\n",
        "\n",
        "\n",
        "\n",
        "\n"
      ],
      "metadata": {
        "id": "SwraSd8yrSJ_"
      },
      "execution_count": null,
      "outputs": []
    },
    {
      "cell_type": "code",
      "source": [
        "# Q.5 Explain the concept of type casting in Python with examples.\n",
        "\n",
        "'''\n",
        "Type casting --> It refers to the process of converting one data type into another.\n",
        "\n",
        "There are two types of type casting in python:\n",
        "1. Implicit type casting --> Implicit type casting occurs automatically when Python converts a\n",
        "   smaller data type to a larger data type during an operation\n",
        "\n",
        "2. Explicit type casting --> Explicit type casting, or manual type conversion, is when you explicitly convert one type into another\n",
        "\n",
        "\n",
        "'''\n",
        "\n",
        "# implicit type casting\n",
        "\n",
        "x = 4 #integer\n",
        "y = 3.5 # float\n",
        "\n",
        "z = x+y\n",
        "print(z) #7.5\n",
        "print(type(z)) #float\n",
        "\n",
        "# explicit type casting\n",
        "\n",
        "a = 4.5\n",
        "b = int(a)\n",
        "print(a) # 4.5\n",
        "print(b) # 4\n",
        "print(type(a)) # float\n",
        "print(type(b)) # integer"
      ],
      "metadata": {
        "id": "YvC8X3IJwSu7"
      },
      "execution_count": null,
      "outputs": []
    },
    {
      "cell_type": "code",
      "source": [
        "# Q.6 --> How do conditional statements work in Python? Illustrate with examples.\n",
        "\n",
        "'''\n",
        "In python, Conditional statements are used to make decisions based on certain conditions\n",
        "\n",
        "Types of conditional statements:\n",
        "\n",
        "1. if statement --> execute block of code when the condition is true.\n",
        "2. else statement --> execute block of code when the if condition is false.\n",
        "3. elif statement --> checks multiple conditions, after the initial if statement\n",
        "4. nested if statement --> you can use one conditional statement inside another.\n",
        "\n",
        "'''\n",
        "\n",
        "# if statement\n",
        "\n",
        "x = 10\n",
        "if x>5:\n",
        "  print(\"x is greater than 5\")\n",
        "\n",
        "\n",
        "# else statement\n",
        "\n",
        "x = 3\n",
        "\n",
        "if x>5:\n",
        "  print(\"x is greater than 5\")\n",
        "\n",
        "else:\n",
        "  print(\"x is smaller than 5\")\n",
        "\n",
        "# elif statement\n",
        "\n",
        "marks = 75\n",
        "\n",
        "if marks>90:\n",
        "  print(\"grade is A+\")\n",
        "elif 90 >= marks > 80:\n",
        "  print(\"grade is A\")\n",
        "elif 80 >= marks > 70:\n",
        "  print(\"grade is B\")\n",
        "elif 70 >= marks > 60:\n",
        "  print(\"grade is C\")\n",
        "elif 60 >= marks > 50:\n",
        "  print(\"grade is D\")\n",
        "\n",
        "# Nested if statement\n",
        "\n",
        "a = 10\n",
        "b = 15\n",
        "\n",
        "if a > 20:\n",
        "  if b > 5:\n",
        "    print(\"a is greater than 20 and b is greater than 5\")\n",
        "  else:\n",
        "    print(\"a is greater than 20 and b is smaller than 5\")\n",
        "else:\n",
        "  if b > 5:\n",
        "    print(\"a is smaller than 20 and b is greater than 5\")\n",
        "  else:\n",
        "    print(\"a is smaller than 20 and b is smaller than 5\")"
      ],
      "metadata": {
        "id": "y7PXJZrG1i4n"
      },
      "execution_count": null,
      "outputs": []
    },
    {
      "cell_type": "code",
      "source": [
        "# Q.7 --> Describe the different types of loops in Python and their use cases with examples.\n",
        "\n",
        "'''\n",
        "Loops --> loops are used to execute a block of code repeatedly\n",
        "\n",
        "There are two types of loops in python :\n",
        "1. while loop\n",
        "2. for loop\n",
        "\n",
        "use cases\n",
        "\n",
        "for loop\n",
        "1. Iterating over a collection (e.g., list, tuple, dictionary).\n",
        "2. Iterating a fixed number of times using the range() function.\n",
        "\n",
        "while loop\n",
        "\n",
        "1. Repeating a task while a condition is met.\n",
        "2. When you don't know the number of iterations in advance.\n",
        "3. Continuously asking for user input until a valid response is given.\n",
        "\n",
        "'''\n",
        "\n",
        "# Examples\n",
        "\n",
        "fruits = [\"Apple\",\"Mango\",\"orange\",\"Banana\"]\n",
        "for fruit in fruits:\n",
        "  print(fruit)\n",
        "\n",
        "# to print no. 1 to 10\n",
        "for i in range(1,11):\n",
        "  print(i)\n",
        "\n",
        "\n",
        "# basic while loop\n",
        "\n",
        "count = 0\n",
        "while count < 5 :\n",
        "  print(count)\n",
        "  count = count+ 1\n",
        "\n",
        "# to print only even no. from 0 to 10\n",
        "\n",
        "for i in range(0,11):\n",
        "  if i%2 == 0:\n",
        "    print(i)\n",
        "\n"
      ],
      "metadata": {
        "id": "UBmFAD_E6lx_"
      },
      "execution_count": null,
      "outputs": []
    },
    {
      "cell_type": "code",
      "source": [],
      "metadata": {
        "id": "K9TUjQxR_9--"
      },
      "execution_count": null,
      "outputs": []
    }
  ]
}